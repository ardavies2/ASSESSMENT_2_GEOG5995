{
 "cells": [
  {
   "cell_type": "markdown",
   "id": "d23efc7a",
   "metadata": {},
   "source": [
    "## Introductory markdown document  \n",
    "GEOG5995M Final Assignment: Are areas of London with lower employment depravation scores more socially integrated?\n",
    "\n",
    "Student ID number: 201323937"
   ]
  },
  {
   "cell_type": "markdown",
   "id": "4f2b4fb2",
   "metadata": {},
   "source": [
    "There are a multitude of definitions of integration. In the past, integration was viewed as a one-way assimilation process (The Migration Observatory, 2021) in which new members of a group or society became more like their ‘host’ population (Alba and Nee, 1997). As research has progressed this definition has become obsolete, with academics favouring a more blended approach to integration with both parties accepting and enjoying aspects of each other's cultures and attitudes in a ‘process of mutual accommodation’ (Charsley and Spencer, 2016). London as a city is a melting pot of culture. Its ethnically diverse population and rich culture draws many to move to and settle within the city (McAdam, nd). London’s diversity can be traced back to the windrush immigration in the 1950’s, a period named after one crossing on the Empire Windrush in 1948 which brought 492 passengers to the United Kingdom from Jamaica and other colonised nations (Gentleman, 2019). This time period brought a wave of immigration throughout the 1950s and 60s from the West Indies with promise of a better life in the ‘Motherland’ (ibid). This wave of immigration was met with some disdain and violence, with the Notting Hill race riots in the 1950s, but in more modern times there seems to be greater adaptation and integration between communities.\n",
    "\n",
    "There are a number of factors which may impact the level of integration within an area. The Brexit referendum was a good example of this, with anger towards immigration and a desire to improve British independence worsening community relationships across the country. In fact, a survey has found that of those who voted ‘Leave’ in the referendum, nearly three quarters or 73% did so because they feared immigration (Bulman, 2017). One of the main reasons people give to explain this fear of immigration, specifically when talking about a phenomenon dubbed ‘the revenge of the places that don’t matter’ (Rodriguez-Pose, 2018) is persistent poverty and a lack of economic opportunities (Abreu et al, 2020). In this project I have decided to analyse the relationship between levels of integration within London Boroughs and Employment Deprivation in those Boroughs. In other words, I am exploring whether areas with greater Employment Deprivation (due to unemployment, illness, caring responsibilities etc.) have lower levels of integration within communities and are more divided due to fear of lost employment opportunities and increased poverty. Employment outcomes have also been found to significantly vary amongst different migrant populations in the UK (Kierans, 2021). Looking at employment depravation in different areas and comparing those to the integration levels of the same areas can be useful to assess whether there is overall greater employment opportunities in areas with more integrated communities and whether this is something which needs to be further investigated by policy makers when formulating employment policy in the future.\n",
    "\n",
    "It must be said that there are a number of other factors which can influence the level of integration within an area, and thus this project will not be able to pinpoint definite causation between the variables. However, this project aims to show a relationship between the two variables and differentiate any meaningful correlation between employment depravation and integration within communities. This could help to dictate policy making surrounding employment or help governments and local authorities to better understand why certain areas may be less integrated, community driven or have more distrust and unrest. \n"
   ]
  },
  {
   "cell_type": "markdown",
   "id": "3acdb140",
   "metadata": {},
   "source": [
    "The geovisualisation used was a choropleth map. This was chosen due to the ease of reading, with colour coded areas being clear and easily discernable. This is useful if this project were to be used for policy making as it is accessible and easy to understand. Choropleth maps also allow for spatial patterns in data to become more apparent and are a useful companion to other data visualisations. The two variables were mapped alongside one another in order to aid in the ease of comparison between the two. A regression plot was chosen for the non-spatial visualisation in order to show the relationship between the two variables in a more statistical sense. The line of best fit allows for ease of analysis and the plot as a whole is a good companion to the choropleth graph as it helps to show the correlation between variables throughout the entire data. The choropleth map shows correlation for certain London Boroughs, yet it is easy to ignore the Boroughs who do not hold the same pattern. As such, the regression plot allows for a better understanding of the relationship between the variables. The project ends with statistical testing between the two variables to help with understanding of if the relationship can be claimed to be statistcially significant enough to warrant further investigation and for the null hypothesis to be accepted. "
   ]
  },
  {
   "cell_type": "markdown",
   "id": "7cbbe246",
   "metadata": {},
   "source": [
    "The github repository includes the data files for all three datasets as well as this markdown document and the jupyter notebook for the coding work itself, which includes the required visualisations and discussions. "
   ]
  },
  {
   "cell_type": "code",
   "execution_count": 2,
   "id": "130d7b7e",
   "metadata": {},
   "outputs": [
    {
     "ename": "SyntaxError",
     "evalue": "invalid syntax (4176144282.py, line 2)",
     "output_type": "error",
     "traceback": [
      "\u001b[1;36m  Cell \u001b[1;32mIn[2], line 2\u001b[1;36m\u001b[0m\n\u001b[1;33m    <p><a href=\"https://migrationobservatory.ox.ac.uk/resources/reports/integration-in-the-uk-understanding-the-data/\">[1]</a>Kierans</p>\u001b[0m\n\u001b[1;37m    ^\u001b[0m\n\u001b[1;31mSyntaxError\u001b[0m\u001b[1;31m:\u001b[0m invalid syntax\n"
     ]
    }
   ],
   "source": [
    "## References\n",
    "<p><a href=\"https://migrationobservatory.ox.ac.uk/resources/reports/integration-in-the-uk-understanding-the-data/\">[1]</a>Kierans</p>\n",
    "<p><a href=\"https://journals.sagepub.com/doi/full/10.1177/0308518X20910752\">[1]</a>Abreu, 2020</p>\n",
    "<p><a href=\"https://academic.oup.com/cjres/article-abstract/11/1/189/4821289\">[1]</a>Rodriguez-Pose, 2018</p>\n",
    "<p><a href=\"https://www.google.com/url?q=https://www.independent.co.uk/news/uk/home-news/brexit-latest-news-leave-eu-immigration-main-reason-european-union-survey-a7811651.html&sa=D&source=docs&ust=1702567346985079&usg=AOvVaw3bu-cwuqfBCqjcOqV_peSW\">[1]</a>Bulman, 2017</p>\n",
    "<p><a href=\"https://trustforlondon.org.uk/data/employment-related-deprivation/\">[1]</a>Trust for London</p>\n",
    "<p><a href=\"https://sonacircle.com/ode-to-london-the-melting-pot/\">[1]</a>McAdam, nd</p>\n",
    "<p><a href=\"https://books.google.co.uk/books?hl=en&lr=&id=RNmcDwAAQBAJ&oi=fnd&pg=PT5&dq=windrush&ots=ZLxzAGQ4EC&sig=RVQG7ARJfKgcr6fF4LOcYFKgpEY#v=onepage&q=windrush&f=false\">[1]</a>Gentleman, 2019</p>\n"
   ]
  }
 ],
 "metadata": {
  "kernelspec": {
   "display_name": "Python 3 (ipykernel)",
   "language": "python",
   "name": "python3"
  },
  "language_info": {
   "codemirror_mode": {
    "name": "ipython",
    "version": 3
   },
   "file_extension": ".py",
   "mimetype": "text/x-python",
   "name": "python",
   "nbconvert_exporter": "python",
   "pygments_lexer": "ipython3",
   "version": "3.11.4"
  }
 },
 "nbformat": 4,
 "nbformat_minor": 5
}
